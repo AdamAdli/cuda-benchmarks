{
 "cells": [
  {
   "cell_type": "code",
   "execution_count": 1,
   "id": "d6ff59f3",
   "metadata": {},
   "outputs": [
    {
     "name": "stdout",
     "output_type": "stream",
     "text": [
      "Sun Oct 24 00:11:30 2021       \n",
      "+-----------------------------------------------------------------------------+\n",
      "| NVIDIA-SMI 470.57.02    Driver Version: 470.57.02    CUDA Version: 11.4     |\n",
      "|-------------------------------+----------------------+----------------------+\n",
      "| GPU  Name        Persistence-M| Bus-Id        Disp.A | Volatile Uncorr. ECC |\n",
      "| Fan  Temp  Perf  Pwr:Usage/Cap|         Memory-Usage | GPU-Util  Compute M. |\n",
      "|                               |                      |               MIG M. |\n",
      "|===============================+======================+======================|\n",
      "|   0  NVIDIA GeForce ...  On   | 00000000:BD:00.0 Off |                  N/A |\n",
      "| 47%   54C    P5    54W / 400W |   2934MiB / 12053MiB |     26%      Default |\n",
      "|                               |                      |                  N/A |\n",
      "+-------------------------------+----------------------+----------------------+\n",
      "                                                                               \n",
      "+-----------------------------------------------------------------------------+\n",
      "| Processes:                                                                  |\n",
      "|  GPU   GI   CI        PID   Type   Process name                  GPU Memory |\n",
      "|        ID   ID                                                   Usage      |\n",
      "|=============================================================================|\n",
      "+-----------------------------------------------------------------------------+\n",
      "nvcc: NVIDIA (R) Cuda compiler driver\n",
      "Copyright (c) 2005-2021 NVIDIA Corporation\n",
      "Built on Sun_Aug_15_21:14:11_PDT_2021\n",
      "Cuda compilation tools, release 11.4, V11.4.120\n",
      "Build cuda_11.4.r11.4/compiler.30300941_0\n"
     ]
    }
   ],
   "source": [
    "!nvidia-smi\n",
    "!nvcc --version"
   ]
  },
  {
   "cell_type": "code",
   "execution_count": 2,
   "id": "63cfd38b",
   "metadata": {
    "scrolled": true
   },
   "outputs": [
    {
     "name": "stdout",
     "output_type": "stream",
     "text": [
      "/mnt/spmm-benchmark\n",
      "/mnt/spmm-benchmark/build\n",
      "-- /mnt/spmm-benchmark/third_party/cmake\n",
      "-- TODO POPULATE ASPT CMAKE\n",
      "-- Found glog (include: /usr/include, library: /usr/lib/x86_64-linux-gnu/libglog.so)\n",
      "-- sputnik  -gencode arch=compute_86,code=sm_86\n",
      "-- Creating hook add_kernel_sputnik\n",
      "-- pybind11 v2.8.0 \n",
      "-- gencode \n",
      "-- gencode   -gencode arch=compute_86,code=sm_86  -gencode arch=compute_86,code=sm_86  -gencode arch=compute_86,code=sm_86  -gencode arch=compute_86,code=sm_86\n",
      "-- [kernel_python_bindings][sputnik] Adding include path /mnt/spmm-benchmark/third_party/kernels/sputnik\n",
      "-- [kernel_python_bindings][sputnik] Adding link path /mnt/spmm-benchmark/build/third_party/kernels/sputnik/sputnik\n",
      "-- [kernel_python_bindings][sputnik] Linking sputnik\n",
      "-- Configuring done\n",
      "\u001b[31mCMake Error in CMakeLists.txt:\n",
      "  CUDA_ARCHITECTURES is empty for target \"kernel_python_bindings\".\n",
      "\n",
      "\u001b[0m\n",
      "\u001b[31mCMake Error in CMakeLists.txt:\n",
      "  CUDA_ARCHITECTURES is empty for target \"kernel_python_bindings\".\n",
      "\n",
      "\u001b[0m\n",
      "-- Generating done\n",
      "\u001b[0mCMake Generate step failed.  Build files cannot be regenerated correctly.\u001b[0m\n",
      "/mnt/spmm-benchmark\n",
      "/usr/local/bin/cmake -S/mnt/spmm-benchmark -B/mnt/spmm-benchmark/build --check-build-system CMakeFiles/Makefile.cmake 0\n",
      "/usr/local/bin/cmake -E cmake_progress_start /mnt/spmm-benchmark/build/CMakeFiles /mnt/spmm-benchmark/build//CMakeFiles/progress.marks\n",
      "/usr/bin/make  -f CMakeFiles/Makefile2 all\n",
      "make[1]: Entering directory '/mnt/spmm-benchmark/build'\n",
      "/usr/bin/make  -f third_party/kernels/sputnik/sputnik/CMakeFiles/sputnik.dir/build.make third_party/kernels/sputnik/sputnik/CMakeFiles/sputnik.dir/depend\n",
      "make[2]: Entering directory '/mnt/spmm-benchmark/build'\n",
      "cd /mnt/spmm-benchmark/build && /usr/local/bin/cmake -E cmake_depends \"Unix Makefiles\" /mnt/spmm-benchmark /mnt/spmm-benchmark/third_party/kernels/sputnik/sputnik /mnt/spmm-benchmark/build /mnt/spmm-benchmark/build/third_party/kernels/sputnik/sputnik /mnt/spmm-benchmark/build/third_party/kernels/sputnik/sputnik/CMakeFiles/sputnik.dir/DependInfo.cmake --color=\n",
      "Dependencies file \"third_party/kernels/sputnik/sputnik/CMakeFiles/sputnik.dir/bias_relu/bias_relu.cu.cc.o.d\" is newer than depends file \"/mnt/spmm-benchmark/build/third_party/kernels/sputnik/sputnik/CMakeFiles/sputnik.dir/compiler_depend.internal\".\n",
      "Dependencies file \"third_party/kernels/sputnik/sputnik/CMakeFiles/sputnik.dir/depthwise/cuda_depthwise.cu.cc.o.d\" is newer than depends file \"/mnt/spmm-benchmark/build/third_party/kernels/sputnik/sputnik/CMakeFiles/sputnik.dir/compiler_depend.internal\".\n",
      "Dependencies file \"third_party/kernels/sputnik/sputnik/CMakeFiles/sputnik.dir/sddmm/cuda_sddmm.cu.cc.o.d\" is newer than depends file \"/mnt/spmm-benchmark/build/third_party/kernels/sputnik/sputnik/CMakeFiles/sputnik.dir/compiler_depend.internal\".\n",
      "Dependencies file \"third_party/kernels/sputnik/sputnik/CMakeFiles/sputnik.dir/softmax/softmax.cu.cc.o.d\" is newer than depends file \"/mnt/spmm-benchmark/build/third_party/kernels/sputnik/sputnik/CMakeFiles/sputnik.dir/compiler_depend.internal\".\n",
      "Dependencies file \"third_party/kernels/sputnik/sputnik/CMakeFiles/sputnik.dir/softmax/sparse_softmax.cu.cc.o.d\" is newer than depends file \"/mnt/spmm-benchmark/build/third_party/kernels/sputnik/sputnik/CMakeFiles/sputnik.dir/compiler_depend.internal\".\n",
      "Dependencies file \"third_party/kernels/sputnik/sputnik/CMakeFiles/sputnik.dir/spmm/cuda_spmm.cu.cc.o.d\" is newer than depends file \"/mnt/spmm-benchmark/build/third_party/kernels/sputnik/sputnik/CMakeFiles/sputnik.dir/compiler_depend.internal\".\n",
      "Dependencies file \"third_party/kernels/sputnik/sputnik/CMakeFiles/sputnik.dir/utils/index_format.cu.cc.o.d\" is newer than depends file \"/mnt/spmm-benchmark/build/third_party/kernels/sputnik/sputnik/CMakeFiles/sputnik.dir/compiler_depend.internal\".\n",
      "\u001b[35m\u001b[1mConsolidate compiler generated dependencies of target sputnik\u001b[0m\n",
      "make[2]: Leaving directory '/mnt/spmm-benchmark/build'\n",
      "/usr/bin/make  -f third_party/kernels/sputnik/sputnik/CMakeFiles/sputnik.dir/build.make third_party/kernels/sputnik/sputnik/CMakeFiles/sputnik.dir/build\n",
      "make[2]: Entering directory '/mnt/spmm-benchmark/build'\n",
      "[ 10%] \u001b[32mBuilding CUDA object third_party/kernels/sputnik/sputnik/CMakeFiles/sputnik.dir/spmm/cuda_spmm.cu.cc.o\u001b[0m\n",
      "cd /mnt/spmm-benchmark/build/third_party/kernels/sputnik/sputnik && /usr/local/cuda/bin/nvcc -forward-unknown-to-host-compiler -Dsputnik_EXPORTS -I/mnt/spmm-benchmark/third_party/kernels/sputnik -gencode arch=compute_86,code=sm_86  -gencode arch=compute_86,code=sm_86  -gencode arch=compute_86,code=sm_86  -gencode arch=compute_86,code=sm_86 -O3 -DNDEBUG -Xcompiler=-fPIC -std=c++11 -MD -MT third_party/kernels/sputnik/sputnik/CMakeFiles/sputnik.dir/spmm/cuda_spmm.cu.cc.o -MF CMakeFiles/sputnik.dir/spmm/cuda_spmm.cu.cc.o.d -x cu -c /mnt/spmm-benchmark/third_party/kernels/sputnik/sputnik/spmm/cuda_spmm.cu.cc -o CMakeFiles/sputnik.dir/spmm/cuda_spmm.cu.cc.o\n",
      "\u001b[01m\u001b[0m\u001b[01m/mnt/spmm-benchmark/third_party/kernels/sputnik/sputnik/spmm/cuda_spmm.cu.cc(332)\u001b[0m: \u001b[01;35mwarning\u001b[0m: parameter \u001b[01m\"nonzeros\"\u001b[0m was declared but never referenced\n",
      "\n",
      "\u001b[01m\u001b[0m\u001b[01m/mnt/spmm-benchmark/third_party/kernels/sputnik/sputnik/spmm/cuda_spmm.cu.cc(107)\u001b[0m: \u001b[01;35mwarning\u001b[0m: parameter \u001b[01m\"k\"\u001b[0m was declared but never referenced\n",
      "          detected during:\n",
      "            instantiation of \u001b[01m\"void sputnik::<unnamed>::KernelWithBounds<Config>(int, int, int, const int *, const Config::ScalarValue *, const int *, const Config::ScalarIndex *, const Config::ScalarValue *, const float *, Config::ScalarValue *) [with Config=sputnik::SpmmConfig<float, float, float4, 1, 32, 128, 32, 4, 1, false, 8>]\"\u001b[0m \u001b[32m\n",
      "(591): here\u001b[0m\n",
      "            instantiation of \u001b[01m\"cudaError_t sputnik::CudaSpmmEx<Config>(int, int, int, int, const int *, const Config::ScalarValue *, const int *, const Config::ScalarIndex *, const Config::ScalarValue *, const float *, Config::ScalarValue *, cudaStream_t) [with Config=sputnik::SpmmConfig<float, float, float4, 1, 32, 128, 32, 4, 1, false, 8>]\"\u001b[0m \u001b[32m\n",
      "(343): here\u001b[0m\n",
      "\n",
      "[ 20%] \u001b[32mBuilding CUDA object third_party/kernels/sputnik/sputnik/CMakeFiles/sputnik.dir/sddmm/cuda_sddmm.cu.cc.o\u001b[0m\n",
      "cd /mnt/spmm-benchmark/build/third_party/kernels/sputnik/sputnik && /usr/local/cuda/bin/nvcc -forward-unknown-to-host-compiler -Dsputnik_EXPORTS -I/mnt/spmm-benchmark/third_party/kernels/sputnik -gencode arch=compute_86,code=sm_86  -gencode arch=compute_86,code=sm_86  -gencode arch=compute_86,code=sm_86  -gencode arch=compute_86,code=sm_86 -O3 -DNDEBUG -Xcompiler=-fPIC -std=c++11 -MD -MT third_party/kernels/sputnik/sputnik/CMakeFiles/sputnik.dir/sddmm/cuda_sddmm.cu.cc.o -MF CMakeFiles/sputnik.dir/sddmm/cuda_sddmm.cu.cc.o.d -x cu -c /mnt/spmm-benchmark/third_party/kernels/sputnik/sputnik/sddmm/cuda_sddmm.cu.cc -o CMakeFiles/sputnik.dir/sddmm/cuda_sddmm.cu.cc.o\n",
      "\u001b[01m\u001b[0m\u001b[01m/mnt/spmm-benchmark/third_party/kernels/sputnik/sputnik/sddmm/cuda_sddmm.cu.cc(37)\u001b[0m: \u001b[01;35mwarning\u001b[0m: parameter \u001b[01m\"n\"\u001b[0m was declared but never referenced\n",
      "          detected during instantiation of \u001b[01m\"cudaError_t sputnik::CudaSddmmEx<LoadType,kBlockItemsY,kBlockItemsK,kBlockItemsX,kBlockWidth,kPredicateK>(int, int, int, int, const int *, const int *, const int *, const float *, const float *, float *, cudaStream_t) [with LoadType=float4, kBlockItemsY=4, kBlockItemsK=32, kBlockItemsX=32, kBlockWidth=8, kPredicateK=0]\"\u001b[0m \u001b[32m\n",
      "(180): here\u001b[0m\n",
      "\n",
      "[ 30%] \u001b[32mBuilding CUDA object third_party/kernels/sputnik/sputnik/CMakeFiles/sputnik.dir/depthwise/cuda_depthwise.cu.cc.o\u001b[0m\n",
      "cd /mnt/spmm-benchmark/build/third_party/kernels/sputnik/sputnik && /usr/local/cuda/bin/nvcc -forward-unknown-to-host-compiler -Dsputnik_EXPORTS -I/mnt/spmm-benchmark/third_party/kernels/sputnik -gencode arch=compute_86,code=sm_86  -gencode arch=compute_86,code=sm_86  -gencode arch=compute_86,code=sm_86  -gencode arch=compute_86,code=sm_86 -O3 -DNDEBUG -Xcompiler=-fPIC -std=c++11 -MD -MT third_party/kernels/sputnik/sputnik/CMakeFiles/sputnik.dir/depthwise/cuda_depthwise.cu.cc.o -MF CMakeFiles/sputnik.dir/depthwise/cuda_depthwise.cu.cc.o.d -x cu -c /mnt/spmm-benchmark/third_party/kernels/sputnik/sputnik/depthwise/cuda_depthwise.cu.cc -o CMakeFiles/sputnik.dir/depthwise/cuda_depthwise.cu.cc.o\n"
     ]
    },
    {
     "name": "stdout",
     "output_type": "stream",
     "text": [
      "\u001b[01m\u001b[0m\u001b[01m/mnt/spmm-benchmark/third_party/kernels/sputnik/sputnik/depthwise/cuda_depthwise.cu.cc(129)\u001b[0m: \u001b[01;35mwarning\u001b[0m: parameter \u001b[01m\"n\"\u001b[0m was declared but never referenced\n",
      "          detected during:\n",
      "            instantiation of \u001b[01m\"void sputnik::<unnamed>::Kernel<Config>(int, int, int, int, const float *, const float *, const float *, float *) [with Config=sputnik::DepthwiseConfig<float4, 3, 1, 1, 64, 64, 4, 4>]\"\u001b[0m \u001b[32m\n",
      "(403): here\u001b[0m\n",
      "            instantiation of \u001b[01m\"cudaError_t sputnik::CudaDepthwiseEx<Config>(int, int, int, int, const float *, const float *, const float *, float *, cudaStream_t) [with Config=sputnik::DepthwiseConfig<float4, 3, 1, 1, 64, 64, 4, 4>]\"\u001b[0m \u001b[32m\n",
      "(321): here\u001b[0m\n",
      "            instantiation of \u001b[01m\"cudaError_t sputnik::CudaDepthwiseEx<kBlockItemsX,kBlockItemsY,kThreadItemsX,kThreadItemsY>(int, int, int, int, const float *, int, int, int, const float *, const float *, float *, cudaStream_t) [with kBlockItemsX=64, kBlockItemsY=64, kThreadItemsX=4, kThreadItemsY=4]\"\u001b[0m \u001b[32m\n",
      "(257): here\u001b[0m\n",
      "\n",
      "[ 40%] \u001b[32mBuilding CUDA object third_party/kernels/sputnik/sputnik/CMakeFiles/sputnik.dir/bias_relu/bias_relu.cu.cc.o\u001b[0m\n",
      "cd /mnt/spmm-benchmark/build/third_party/kernels/sputnik/sputnik && /usr/local/cuda/bin/nvcc -forward-unknown-to-host-compiler -Dsputnik_EXPORTS -I/mnt/spmm-benchmark/third_party/kernels/sputnik -gencode arch=compute_86,code=sm_86  -gencode arch=compute_86,code=sm_86  -gencode arch=compute_86,code=sm_86  -gencode arch=compute_86,code=sm_86 -O3 -DNDEBUG -Xcompiler=-fPIC -std=c++11 -MD -MT third_party/kernels/sputnik/sputnik/CMakeFiles/sputnik.dir/bias_relu/bias_relu.cu.cc.o -MF CMakeFiles/sputnik.dir/bias_relu/bias_relu.cu.cc.o.d -x cu -c /mnt/spmm-benchmark/third_party/kernels/sputnik/sputnik/bias_relu/bias_relu.cu.cc -o CMakeFiles/sputnik.dir/bias_relu/bias_relu.cu.cc.o\n",
      "[ 50%] \u001b[32mBuilding CUDA object third_party/kernels/sputnik/sputnik/CMakeFiles/sputnik.dir/softmax/softmax.cu.cc.o\u001b[0m\n",
      "cd /mnt/spmm-benchmark/build/third_party/kernels/sputnik/sputnik && /usr/local/cuda/bin/nvcc -forward-unknown-to-host-compiler -Dsputnik_EXPORTS -I/mnt/spmm-benchmark/third_party/kernels/sputnik -gencode arch=compute_86,code=sm_86  -gencode arch=compute_86,code=sm_86  -gencode arch=compute_86,code=sm_86  -gencode arch=compute_86,code=sm_86 -O3 -DNDEBUG -Xcompiler=-fPIC -std=c++11 -MD -MT third_party/kernels/sputnik/sputnik/CMakeFiles/sputnik.dir/softmax/softmax.cu.cc.o -MF CMakeFiles/sputnik.dir/softmax/softmax.cu.cc.o.d -x cu -c /mnt/spmm-benchmark/third_party/kernels/sputnik/sputnik/softmax/softmax.cu.cc -o CMakeFiles/sputnik.dir/softmax/softmax.cu.cc.o\n",
      "[ 60%] \u001b[32mBuilding CUDA object third_party/kernels/sputnik/sputnik/CMakeFiles/sputnik.dir/softmax/sparse_softmax.cu.cc.o\u001b[0m\n",
      "cd /mnt/spmm-benchmark/build/third_party/kernels/sputnik/sputnik && /usr/local/cuda/bin/nvcc -forward-unknown-to-host-compiler -Dsputnik_EXPORTS -I/mnt/spmm-benchmark/third_party/kernels/sputnik -gencode arch=compute_86,code=sm_86  -gencode arch=compute_86,code=sm_86  -gencode arch=compute_86,code=sm_86  -gencode arch=compute_86,code=sm_86 -O3 -DNDEBUG -Xcompiler=-fPIC -std=c++11 -MD -MT third_party/kernels/sputnik/sputnik/CMakeFiles/sputnik.dir/softmax/sparse_softmax.cu.cc.o -MF CMakeFiles/sputnik.dir/softmax/sparse_softmax.cu.cc.o.d -x cu -c /mnt/spmm-benchmark/third_party/kernels/sputnik/sputnik/softmax/sparse_softmax.cu.cc -o CMakeFiles/sputnik.dir/softmax/sparse_softmax.cu.cc.o\n",
      "\u001b[01m\u001b[0m\u001b[01m/mnt/spmm-benchmark/third_party/kernels/sputnik/sputnik/softmax/sparse_softmax.cu.cc(24)\u001b[0m: \u001b[01;35mwarning\u001b[0m: parameter \u001b[01m\"n\"\u001b[0m was declared but never referenced\n",
      "\n",
      "\u001b[01m\u001b[0m\u001b[01m/mnt/spmm-benchmark/third_party/kernels/sputnik/sputnik/softmax/sparse_softmax.cu.cc(28)\u001b[0m: \u001b[01;35mwarning\u001b[0m: parameter \u001b[01m\"column_indices\"\u001b[0m was declared but never referenced\n",
      "\n",
      "[ 70%] \u001b[32mBuilding CUDA object third_party/kernels/sputnik/sputnik/CMakeFiles/sputnik.dir/utils/index_format.cu.cc.o\u001b[0m\n",
      "cd /mnt/spmm-benchmark/build/third_party/kernels/sputnik/sputnik && /usr/local/cuda/bin/nvcc -forward-unknown-to-host-compiler -Dsputnik_EXPORTS -I/mnt/spmm-benchmark/third_party/kernels/sputnik -gencode arch=compute_86,code=sm_86  -gencode arch=compute_86,code=sm_86  -gencode arch=compute_86,code=sm_86  -gencode arch=compute_86,code=sm_86 -O3 -DNDEBUG -Xcompiler=-fPIC -std=c++11 -MD -MT third_party/kernels/sputnik/sputnik/CMakeFiles/sputnik.dir/utils/index_format.cu.cc.o -MF CMakeFiles/sputnik.dir/utils/index_format.cu.cc.o.d -x cu -c /mnt/spmm-benchmark/third_party/kernels/sputnik/sputnik/utils/index_format.cu.cc -o CMakeFiles/sputnik.dir/utils/index_format.cu.cc.o\n",
      "[ 80%] \u001b[32m\u001b[1mLinking CUDA shared library libsputnik.so\u001b[0m\n",
      "cd /mnt/spmm-benchmark/build/third_party/kernels/sputnik/sputnik && /usr/local/bin/cmake -E cmake_link_script CMakeFiles/sputnik.dir/link.txt --verbose=1\n",
      "/usr/bin/g++ -fPIC -shared -Wl,-soname,libsputnik.so -o libsputnik.so CMakeFiles/sputnik.dir/spmm/cuda_spmm.cu.cc.o CMakeFiles/sputnik.dir/sddmm/cuda_sddmm.cu.cc.o CMakeFiles/sputnik.dir/depthwise/cuda_depthwise.cu.cc.o CMakeFiles/sputnik.dir/bias_relu/bias_relu.cu.cc.o CMakeFiles/sputnik.dir/softmax/softmax.cu.cc.o CMakeFiles/sputnik.dir/softmax/sparse_softmax.cu.cc.o CMakeFiles/sputnik.dir/utils/index_format.cu.cc.o  -lcudart_static -lcublas_static -lcusparse_static -lculibos -lcublasLt_static /usr/lib/x86_64-linux-gnu/libglog.so -lcudadevrt -lcudart_static -lrt -lpthread -ldl  -L\"/usr/local/cuda/targets/x86_64-linux/lib/stubs\" -L\"/usr/local/cuda/targets/x86_64-linux/lib\"\n",
      "make[2]: Leaving directory '/mnt/spmm-benchmark/build'\n",
      "[ 80%] Built target sputnik\n",
      "/usr/bin/make  -f CMakeFiles/kernel_python_bindings.dir/build.make CMakeFiles/kernel_python_bindings.dir/depend\n",
      "make[2]: Entering directory '/mnt/spmm-benchmark/build'\n",
      "cd /mnt/spmm-benchmark/build && /usr/local/bin/cmake -E cmake_depends \"Unix Makefiles\" /mnt/spmm-benchmark /mnt/spmm-benchmark /mnt/spmm-benchmark/build /mnt/spmm-benchmark/build /mnt/spmm-benchmark/build/CMakeFiles/kernel_python_bindings.dir/DependInfo.cmake --color=\n",
      "Dependencies file \"CMakeFiles/kernel_python_bindings.dir/src/benchmark_cpp/kernel_python_bindings.cu.o.d\" is newer than depends file \"/mnt/spmm-benchmark/build/CMakeFiles/kernel_python_bindings.dir/compiler_depend.internal\".\n",
      "\u001b[35m\u001b[1mConsolidate compiler generated dependencies of target kernel_python_bindings\u001b[0m\n",
      "make[2]: Leaving directory '/mnt/spmm-benchmark/build'\n",
      "/usr/bin/make  -f CMakeFiles/kernel_python_bindings.dir/build.make CMakeFiles/kernel_python_bindings.dir/build\n",
      "make[2]: Entering directory '/mnt/spmm-benchmark/build'\n",
      "[ 90%] \u001b[32mBuilding CUDA object CMakeFiles/kernel_python_bindings.dir/src/benchmark_cpp/kernel_python_bindings.cu.o\u001b[0m\n",
      "/usr/local/cuda/bin/nvcc -forward-unknown-to-host-compiler -Dkernel_python_bindings_EXPORTS -I/mnt/spmm-benchmark/third_party/kernels/sputnik -isystem=/mnt/spmm-benchmark/third_party/pybind11/include -isystem=/usr/include/python3.8 -gencode arch=compute_86,code=sm_86  -gencode arch=compute_86,code=sm_86  -gencode arch=compute_86,code=sm_86  -gencode arch=compute_86,code=sm_86 -O3 -DNDEBUG -Xcompiler=-fPIC -Xcompiler=-fvisibility=hidden -std=c++14 -MD -MT CMakeFiles/kernel_python_bindings.dir/src/benchmark_cpp/kernel_python_bindings.cu.o -MF CMakeFiles/kernel_python_bindings.dir/src/benchmark_cpp/kernel_python_bindings.cu.o.d -x cu -c /mnt/spmm-benchmark/src/benchmark_cpp/kernel_python_bindings.cu -o CMakeFiles/kernel_python_bindings.dir/src/benchmark_cpp/kernel_python_bindings.cu.o\n",
      "[100%] \u001b[32m\u001b[1mLinking CUDA shared module kernel_python_bindings.cpython-38-x86_64-linux-gnu.so\u001b[0m\n",
      "/usr/local/bin/cmake -E cmake_link_script CMakeFiles/kernel_python_bindings.dir/link.txt --verbose=1\n",
      "/usr/bin/g++ -fPIC -flto -shared  -o kernel_python_bindings.cpython-38-x86_64-linux-gnu.so CMakeFiles/kernel_python_bindings.dir/src/benchmark_cpp/kernel_python_bindings.cu.o   -L/mnt/spmm-benchmark/build/third_party/kernels/sputnik/sputnik  -Wl,-rpath,/mnt/spmm-benchmark/build/third_party/kernels/sputnik/sputnik third_party/kernels/sputnik/sputnik/libsputnik.so -lcudart_static -lcublas_static -lcusparse_static -lculibos -lcublasLt_static /usr/lib/x86_64-linux-gnu/libglog.so -lcudadevrt -lcudart_static -lrt -lpthread -ldl  -L\"/usr/local/cuda/targets/x86_64-linux/lib/stubs\" -L\"/usr/local/cuda/targets/x86_64-linux/lib\"\n"
     ]
    },
    {
     "name": "stdout",
     "output_type": "stream",
     "text": [
      "/usr/bin/strip /mnt/spmm-benchmark/build/kernel_python_bindings.cpython-38-x86_64-linux-gnu.so\n",
      "make[2]: Leaving directory '/mnt/spmm-benchmark/build'\n",
      "[100%] Built target kernel_python_bindings\n",
      "make[1]: Leaving directory '/mnt/spmm-benchmark/build'\n",
      "/usr/local/bin/cmake -E cmake_progress_start /mnt/spmm-benchmark/build/CMakeFiles 0\n"
     ]
    }
   ],
   "source": [
    "%cd /mnt/spmm-benchmark/\n",
    "%cd /mnt/spmm-benchmark/build\n",
    "!cmake .. -DCMAKE_BUILD_TYPE=Release\n",
    "%cd /mnt/spmm-benchmark/\n",
    "!cmake --build build --verbose"
   ]
  },
  {
   "cell_type": "code",
   "execution_count": 3,
   "id": "6782d03f",
   "metadata": {},
   "outputs": [
    {
     "name": "stdout",
     "output_type": "stream",
     "text": [
      "/mnt/spmm-benchmark\n"
     ]
    },
    {
     "data": {
      "text/plain": [
       "[None, None, None]"
      ]
     },
     "execution_count": 3,
     "metadata": {},
     "output_type": "execute_result"
    }
   ],
   "source": [
    "%cd /mnt/spmm-benchmark/\n",
    "import pathlib\n",
    "[p.unlink() for p in pathlib.Path('.').rglob('*.py[co]')]\n",
    "[p.rmdir() for p in pathlib.Path('.').rglob('__pycache__')]"
   ]
  },
  {
   "cell_type": "code",
   "execution_count": 4,
   "id": "188b945b",
   "metadata": {},
   "outputs": [
    {
     "name": "stdout",
     "output_type": "stream",
     "text": [
      "/mnt/spmm-benchmark\n",
      "using build\n"
     ]
    }
   ],
   "source": [
    "import os\n",
    "import importlib\n",
    "\n",
    "os.chdir('/mnt/spmm-benchmark')\n",
    "print(os.getcwd())\n",
    "\n",
    "import src.benchmark_cpp as bm_cpp"
   ]
  },
  {
   "cell_type": "code",
   "execution_count": 5,
   "id": "ffbaf78b",
   "metadata": {},
   "outputs": [
    {
     "data": {
      "text/plain": [
       "1952156.0"
      ]
     },
     "execution_count": 5,
     "metadata": {},
     "output_type": "execute_result"
    }
   ],
   "source": [
    "from scipy.sparse import identity\n",
    "from numpy import ones\n",
    "\n",
    "A = identity(10, format='csr')\n",
    "B = ones((10, 5))\n",
    "\n",
    "bm_cpp.sgk_scipy(A, B)"
   ]
  },
  {
   "cell_type": "code",
   "execution_count": null,
   "id": "ac33e023",
   "metadata": {},
   "outputs": [],
   "source": []
  }
 ],
 "metadata": {
  "kernelspec": {
   "display_name": "Python 3 (ipykernel)",
   "language": "python",
   "name": "python3"
  },
  "language_info": {
   "codemirror_mode": {
    "name": "ipython",
    "version": 3
   },
   "file_extension": ".py",
   "mimetype": "text/x-python",
   "name": "python",
   "nbconvert_exporter": "python",
   "pygments_lexer": "ipython3",
   "version": "3.8.10"
  }
 },
 "nbformat": 4,
 "nbformat_minor": 5
}
