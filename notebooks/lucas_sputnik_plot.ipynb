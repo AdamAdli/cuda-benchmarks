{
 "cells": [
  {
   "cell_type": "code",
   "execution_count": 1,
   "metadata": {
    "colab": {
     "base_uri": "https://localhost:8080/"
    },
    "id": "A8_eWTfheaDL",
    "outputId": "35b762e6-89dd-41f8-ab9c-01b5db86037f",
    "scrolled": false
   },
   "outputs": [
    {
     "name": "stdout",
     "output_type": "stream",
     "text": [
      "/mnt/spmm-benchmark\n",
      "using build\n"
     ]
    }
   ],
   "source": [
    "import os\n",
    "import importlib\n",
    "\n",
    "os.chdir('/mnt/spmm-benchmark')\n",
    "print(os.getcwd())\n",
    "\n",
    "import src.benchmark as bm\n",
    "import pandas as pd\n",
    "import matplotlib.pyplot as plt"
   ]
  },
  {
   "cell_type": "code",
   "execution_count": 2,
   "metadata": {
    "scrolled": true
   },
   "outputs": [
    {
     "name": "stdout",
     "output_type": "stream",
     "text": [
      "True\n"
     ]
    }
   ],
   "source": [
    "from src.mtx import *\n",
    "A_pattern = read_pattern('/mnt/dlmc/rn50/random_pruning/0.7/bottleneck_3_block_group3_5_1.smtx')\n",
    "A_dense = pattern_to_dense(A_pattern)\n",
    "_A_dense = get_mtx('/mnt/dlmc/rn50/random_pruning/0.7/bottleneck_3_block_group3_5_1.smtx')\n",
    "\n",
    "#print(len(A_dense), len(A_dense[0]))\n",
    "#print(len(_A_dense), len(_A_dense[0]))\n",
    "print(any([any(A_dense[i] == _A_dense[i]) for i in range(len(A_dense))] + [len(A_dense) == len(_A_dense)]))\n"
   ]
  },
  {
   "cell_type": "code",
   "execution_count": 3,
   "metadata": {
    "colab": {
     "base_uri": "https://localhost:8080/",
     "height": 508
    },
    "id": "2OCOjPcjgxvE",
    "outputId": "7f1b9dde-51cd-4048-cb1b-945f9c0a3b71",
    "scrolled": true
   },
   "outputs": [
    {
     "name": "stdout",
     "output_type": "stream",
     "text": [
      "using build\n"
     ]
    },
    {
     "data": {
      "text/html": [
       "Processing /mnt/dlmc/rn50/random_pruning/0.7.<p>Processing /mnt/dlmc/rn50/random_pruning/0.95.<p>Processing /mnt/dlmc/rn50/random_pruning/0.5.<p>Processing /mnt/dlmc/rn50/random_pruning/0.8.<p>Processing /mnt/dlmc/rn50/variational_dropout/0.9.<p>Processing /mnt/dlmc/rn50/variational_dropout/0.98.<p>Processing /mnt/dlmc/rn50/variational_dropout/0.95.<p>Processing /mnt/dlmc/rn50/variational_dropout/0.5.<p>Processing /mnt/dlmc/rn50/variational_dropout/0.8.<p>Processing /mnt/dlmc/rn50/magnitude_pruning/0.9.<p>Processing /mnt/dlmc/rn50/magnitude_pruning/0.98.<p>Processing /mnt/dlmc/rn50/magnitude_pruning/0.7.<p>Processing /mnt/dlmc/rn50/magnitude_pruning/0.95.<p>Processing /mnt/dlmc/rn50/magnitude_pruning/0.5.<p>Processing /mnt/dlmc/rn50/magnitude_pruning/0.8.<p>Processing /mnt/dlmc/rn50/extended_magnitude_pruning/0.98.<p>Processing /mnt/dlmc/rn50/extended_magnitude_pruning/0.96.<p>Processing /mnt/dlmc/rn50/extended_magnitude_pruning/0.91.<p>Processing /mnt/dlmc/rn50/extended_magnitude_pruning/0.8."
      ],
      "text/plain": [
       "<IPython.core.display.HTML object>"
      ]
     },
     "metadata": {},
     "output_type": "display_data"
    }
   ],
   "source": [
    "# Always load latest for dev purposes\n",
    "import src\n",
    "importlib.reload(src.benchmark_cpp)\n",
    "importlib.reload(bm)\n",
    "\n",
    "# Reduce for now so it doesn't take forever\n",
    "bm.BURN_ITERS = 2\n",
    "bm.REPS = 5\n",
    "result = bm.resnet_exp(\"/mnt/dlmc/rn50\")"
   ]
  },
  {
   "cell_type": "code",
   "execution_count": 7,
   "metadata": {},
   "outputs": [
    {
     "name": "stdout",
     "output_type": "stream",
     "text": [
      "      sparsity_est    row_mean    row_std   row_cov    col_mean    col_std  \\\n",
      "0              0.7   76.799805   7.435659  0.096819  307.199219  15.865504   \n",
      "1              0.7  691.199219  22.549671  0.032624   76.799913   8.125768   \n",
      "2              0.7  153.597656  10.694179  0.069625   76.798828   7.892871   \n",
      "3              0.7   19.187500   4.038390  0.210470   19.187500   3.622305   \n",
      "4              0.7  307.199707  14.860374  0.048374  614.399414  22.913553   \n",
      "...            ...         ...        ...       ...         ...        ...   \n",
      "1017           0.8  102.466309  25.859556  0.252371  409.865234  90.158668   \n",
      "1018           0.8  461.097656  92.373616  0.200334   51.233073  13.071681   \n",
      "1019           0.8   12.808594   8.385167  0.654652   51.234375  33.694743   \n",
      "1020           0.8   25.617188  18.334936  0.715728  102.468750  28.659078   \n",
      "1021           0.8  204.933594  33.240828  0.162203   51.233398  15.637408   \n",
      "\n",
      "       col_cov  cov_diff     nnz      time                        name  \\\n",
      "0     0.051646  0.045173   78643  0.029060              random_pruning   \n",
      "1     0.105804  0.073180  176947  0.062895              random_pruning   \n",
      "2     0.102773  0.033149   39321  0.047232              random_pruning   \n",
      "3     0.188785  0.021685    1228  0.019377              random_pruning   \n",
      "4     0.037294  0.011079  629145  0.055746              random_pruning   \n",
      "...        ...       ...     ...       ...                         ...   \n",
      "1017  0.219971  0.032400  209851  0.027410  extended_magnitude_pruning   \n",
      "1018  0.255141  0.054807  118041  0.055130  extended_magnitude_pruning   \n",
      "1019  0.657659  0.003007    3279  0.025395  extended_magnitude_pruning   \n",
      "1020  0.279686  0.436042   13116  0.029987  extended_magnitude_pruning   \n",
      "1021  0.305219  0.143016   52463  0.032227  extended_magnitude_pruning   \n",
      "\n",
      "      sparsity  normalized_time  \n",
      "0          0.7     3.695179e-07  \n",
      "1          0.7     3.554454e-07  \n",
      "2          0.7     1.201190e-06  \n",
      "3          0.7     1.577932e-05  \n",
      "4          0.7     8.860597e-08  \n",
      "...        ...              ...  \n",
      "1017       0.8     1.306165e-07  \n",
      "1018       0.8     4.670411e-07  \n",
      "1019       0.8     7.744739e-06  \n",
      "1020       0.8     2.286292e-06  \n",
      "1021       0.8     6.142805e-07  \n",
      "\n",
      "[1022 rows x 13 columns]\n"
     ]
    }
   ],
   "source": [
    "df = pd.DataFrame(result)\n",
    "df['normalized_time'] = df['time'] / df['nnz']\n",
    "print(df)"
   ]
  },
  {
   "cell_type": "code",
   "execution_count": 9,
   "metadata": {
    "id": "dkpU1Fc2k37g"
   },
   "outputs": [
    {
     "data": {
      "image/png": "[encoded data removed]",
      "text/plain": [
       "<Figure size 432x288 with 1 Axes>"
      ]
     },
     "metadata": {
      "needs_background": "light"
     },
     "output_type": "display_data"
    }
   ],
   "source": [
    "df.plot.scatter(x='row_cov', y='normalized_time')\n",
    "plt.savefig('/mnt/spmm-benchmark/row_cov.jpeg')"
   ]
  },
  {
   "cell_type": "code",
   "execution_count": 6,
   "metadata": {
    "colab": {
     "base_uri": "https://localhost:8080/",
     "height": 622
    },
    "id": "3BTfpmf4o42q",
    "outputId": "570d5c72-2438-40ae-dd64-55305799473d",
    "scrolled": true
   },
   "outputs": [
    {
     "ename": "NameError",
     "evalue": "name 'plot_sparsity' is not defined",
     "output_type": "error",
     "traceback": [
      "\u001b[0;31m---------------------------------------------------------------------------\u001b[0m",
      "\u001b[0;31mNameError\u001b[0m                                 Traceback (most recent call last)",
      "\u001b[0;32m/tmp/ipykernel_527/2394672764.py\u001b[0m in \u001b[0;36m<module>\u001b[0;34m\u001b[0m\n\u001b[0;32m----> 1\u001b[0;31m \u001b[0mplot_sparsity\u001b[0m\u001b[0;34m(\u001b[0m\u001b[0;36m0.9\u001b[0m\u001b[0;34m,\u001b[0m \u001b[0mresult\u001b[0m\u001b[0;34m)\u001b[0m\u001b[0;34m\u001b[0m\u001b[0;34m\u001b[0m\u001b[0m\n\u001b[0m",
      "\u001b[0;31mNameError\u001b[0m: name 'plot_sparsity' is not defined"
     ]
    }
   ],
   "source": [
    "plot_sparsity(0.9, result)"
   ]
  },
  {
   "cell_type": "code",
   "execution_count": null,
   "metadata": {
    "colab": {
     "base_uri": "https://localhost:8080/",
     "height": 622
    },
    "id": "6_9zgq9qtphx",
    "outputId": "7cbe1926-1675-48ac-997f-b1fc9cbbbb46",
    "scrolled": true
   },
   "outputs": [],
   "source": [
    "plot_sparsity(0.5, result)"
   ]
  },
  {
   "cell_type": "code",
   "execution_count": null,
   "metadata": {
    "id": "NhTiAqQunBBO"
   },
   "outputs": [],
   "source": [
    "a = {1:\"a\", 2:'b'}\n",
    "list(a.values())"
   ]
  },
  {
   "cell_type": "code",
   "execution_count": null,
   "metadata": {
    "id": "85qoeoRQnF7p"
   },
   "outputs": [],
   "source": [
    "def plot_method(method_name, result):\n",
    "  tmp = {} \n",
    "  sparsity_levels = []\n",
    "  for k, v in result.items():\n",
    "    if k[0] == method_name:\n",
    "      v = sorted(v.items(), key=lambda x: x[0])\n",
    "      tmp[k[1]] = [i[1] for i in v]\n",
    "      size = len(v)\n",
    "      sparsity_levels.append(k[1])\n",
    "  sparsity_levels = sorted(sparsity_levels)\n",
    "  index = list(range(size))\n",
    "  df = pd.DataFrame(tmp, index=index)\n",
    "  df = df[sparsity_levels]\n",
    "  df.plot.bar(figsize=(16,9))  \n",
    "  plt.xlabel(\"layer number\")\n",
    "  plt.ylabel(\"runtime (ms)\")\n",
    "  plt.title(\"runtime distribution using {}\".format(method_name))\n"
   ]
  },
  {
   "cell_type": "code",
   "execution_count": null,
   "metadata": {
    "colab": {
     "base_uri": "https://localhost:8080/",
     "height": 570
    },
    "id": "8mJTcdZqvnpu",
    "outputId": "36594aaf-6ae9-4a0c-f14f-9819d78e0324"
   },
   "outputs": [],
   "source": [
    "plot_method(\"magnitude_pruning\", result)"
   ]
  },
  {
   "cell_type": "code",
   "execution_count": null,
   "metadata": {
    "colab": {
     "base_uri": "https://localhost:8080/",
     "height": 168
    },
    "id": "RPCRv0r9x_4k",
    "outputId": "978e8e83-df3c-48b7-a03f-550cab63cd5f"
   },
   "outputs": [],
   "source": [
    "rn50_result_to_csv(result, \"rn50_time\")"
   ]
  },
  {
   "cell_type": "code",
   "execution_count": null,
   "metadata": {},
   "outputs": [],
   "source": []
  }
 ],
 "metadata": {
  "colab": {
   "collapsed_sections": [],
   "name": "Lucas-Sputnik-Plot.ipynb",
   "provenance": [],
   "toc_visible": true
  },
  "kernelspec": {
   "display_name": "Python 3 (ipykernel)",
   "language": "python",
   "name": "python3"
  },
  "language_info": {
   "codemirror_mode": {
    "name": "ipython",
    "version": 3
   },
   "file_extension": ".py",
   "mimetype": "text/x-python",
   "name": "python",
   "nbconvert_exporter": "python",
   "pygments_lexer": "ipython3",
   "version": "3.8.10"
  }
 },
 "nbformat": 4,
 "nbformat_minor": 1
}
